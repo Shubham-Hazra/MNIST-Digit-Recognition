{
 "cells": [
  {
   "cell_type": "code",
   "execution_count": 89,
   "id": "9a6fd6fb",
   "metadata": {},
   "outputs": [],
   "source": [
    "# |default_exp digit_keras"
   ]
  },
  {
   "cell_type": "code",
   "execution_count": 90,
   "id": "7d0f0211",
   "metadata": {},
   "outputs": [],
   "source": [
    "#|export\n",
    "#Import relevant libraries\n",
    "import tensorflow as tf\n",
    "from tensorflow import keras\n",
    "from keras.utils.np_utils import to_categorical\n",
    "import pandas as pd\n",
    "import numpy as np\n",
    "import matplotlib.pyplot as plt"
   ]
  },
  {
   "cell_type": "code",
   "execution_count": 91,
   "id": "54f5a63d",
   "metadata": {},
   "outputs": [],
   "source": [
    "#|export\n",
    "#Download the data\n",
    "(X_train, y_train), (X_test, y_test) = keras.datasets.mnist.load_data()"
   ]
  },
  {
   "cell_type": "code",
   "execution_count": 92,
   "id": "bacfef2f",
   "metadata": {},
   "outputs": [],
   "source": [
    "#|export\n",
    "#Preprocess the data\n",
    "X_train = X_train.astype(np.float32) / 255.0\n",
    "X_test = X_test.astype(np.float32) / 255.0\n",
    "\n",
    "y_train = to_categorical(y_train)\n",
    "y_test = to_categorical(y_test)\n",
    "\n",
    "input_shape = (28, 28, 1)\n",
    "num_classes = y_train.shape[1]"
   ]
  },
  {
   "cell_type": "code",
   "execution_count": 93,
   "id": "ef0a8831",
   "metadata": {},
   "outputs": [],
   "source": [
    "#|export\n",
    "#Initialise the model\n",
    "model = keras.models.Sequential([\n",
    "    keras.layers.Conv2D(filters=16,\n",
    "                        kernel_size=(3, 3),\n",
    "                        strides=(1, 1),\n",
    "                        use_bias=True,\n",
    "                        input_shape=input_shape,\n",
    "                        kernel_initializer=\"glorot_uniform\",\n",
    "                        activation='relu',\n",
    "                        padding='same',\n",
    "                        bias_initializer=\"zeros\"),\n",
    "    keras.layers.MaxPooling2D(pool_size=(2, 2), strides=(2, 2)),\n",
    "    keras.layers.Conv2D(filters=32,\n",
    "                        kernel_size=(3, 3),\n",
    "                        strides=(1, 1),\n",
    "                        use_bias=True,\n",
    "                        kernel_initializer=\"glorot_uniform\",\n",
    "                        activation='relu',\n",
    "                        padding='same',\n",
    "                        bias_initializer=\"zeros\"),\n",
    "    keras.layers.MaxPooling2D(pool_size=(2, 2), strides=(2, 2)),\n",
    "    keras.layers.Flatten(),\n",
    "    keras.layers.Dense(784,\n",
    "                       activation='relu',\n",
    "                       kernel_initializer=keras.initializers.HeNormal()),\n",
    "    keras.layers.Dense(256,\n",
    "                       activation='relu',\n",
    "                       kernel_initializer=keras.initializers.HeNormal()),\n",
    "    keras.layers.Dense(64,\n",
    "                       activation='relu',\n",
    "                       kernel_initializer=keras.initializers.HeNormal()),\n",
    "    keras.layers.Dense(num_classes, activation='linear')\n",
    "])"
   ]
  },
  {
   "cell_type": "code",
   "execution_count": 94,
   "id": "3fc18074",
   "metadata": {},
   "outputs": [
    {
     "name": "stdout",
     "output_type": "stream",
     "text": [
      "Epoch 1/20\n",
      "165/165 [==============================] - 16s 93ms/step - loss: 0.3006 - accuracy: 0.9113 - val_loss: 0.0851 - val_accuracy: 0.9737\n",
      "Epoch 2/20\n",
      "165/165 [==============================] - 17s 101ms/step - loss: 0.0726 - accuracy: 0.9776 - val_loss: 0.0603 - val_accuracy: 0.9816\n",
      "Epoch 3/20\n",
      "165/165 [==============================] - 16s 99ms/step - loss: 0.0470 - accuracy: 0.9853 - val_loss: 0.0741 - val_accuracy: 0.9757\n",
      "Epoch 4/20\n",
      "165/165 [==============================] - 15s 93ms/step - loss: 0.0405 - accuracy: 0.9875 - val_loss: 0.0457 - val_accuracy: 0.9860\n",
      "Epoch 5/20\n",
      "165/165 [==============================] - 16s 96ms/step - loss: 0.0263 - accuracy: 0.9917 - val_loss: 0.0557 - val_accuracy: 0.9831\n",
      "Epoch 6/20\n",
      "165/165 [==============================] - 15s 91ms/step - loss: 0.0208 - accuracy: 0.9929 - val_loss: 0.0529 - val_accuracy: 0.9844\n",
      "Epoch 7/20\n",
      "165/165 [==============================] - 16s 98ms/step - loss: 0.0148 - accuracy: 0.9952 - val_loss: 0.0616 - val_accuracy: 0.9816\n",
      "Epoch 8/20\n",
      "165/165 [==============================] - 18s 111ms/step - loss: 0.0150 - accuracy: 0.9951 - val_loss: 0.0492 - val_accuracy: 0.9864\n",
      "Epoch 9/20\n",
      "165/165 [==============================] - 19s 115ms/step - loss: 0.0114 - accuracy: 0.9963 - val_loss: 0.0457 - val_accuracy: 0.9885\n",
      "Epoch 10/20\n",
      "165/165 [==============================] - 19s 117ms/step - loss: 0.0083 - accuracy: 0.9974 - val_loss: 0.0454 - val_accuracy: 0.9886\n",
      "Epoch 11/20\n",
      "165/165 [==============================] - 19s 114ms/step - loss: 0.0075 - accuracy: 0.9976 - val_loss: 0.0497 - val_accuracy: 0.9878\n",
      "Epoch 12/20\n",
      "165/165 [==============================] - 15s 93ms/step - loss: 0.0091 - accuracy: 0.9969 - val_loss: 0.0532 - val_accuracy: 0.9871\n",
      "Epoch 13/20\n",
      "165/165 [==============================] - 15s 93ms/step - loss: 0.0055 - accuracy: 0.9984 - val_loss: 0.0487 - val_accuracy: 0.9884\n",
      "Epoch 14/20\n",
      "165/165 [==============================] - 16s 96ms/step - loss: 0.0071 - accuracy: 0.9976 - val_loss: 0.0466 - val_accuracy: 0.9888\n",
      "Epoch 15/20\n",
      "165/165 [==============================] - 16s 95ms/step - loss: 0.0065 - accuracy: 0.9979 - val_loss: 0.0461 - val_accuracy: 0.9888\n",
      "Epoch 16/20\n",
      "165/165 [==============================] - 15s 91ms/step - loss: 0.0082 - accuracy: 0.9972 - val_loss: 0.0518 - val_accuracy: 0.9876\n",
      "Epoch 17/20\n",
      "165/165 [==============================] - 16s 95ms/step - loss: 0.0052 - accuracy: 0.9983 - val_loss: 0.0540 - val_accuracy: 0.9877\n",
      "Epoch 18/20\n",
      "165/165 [==============================] - 15s 91ms/step - loss: 0.0044 - accuracy: 0.9984 - val_loss: 0.0527 - val_accuracy: 0.9886\n",
      "Epoch 19/20\n",
      "165/165 [==============================] - 15s 90ms/step - loss: 0.0047 - accuracy: 0.9985 - val_loss: 0.0520 - val_accuracy: 0.9895\n",
      "Epoch 20/20\n",
      "165/165 [==============================] - 15s 94ms/step - loss: 0.0046 - accuracy: 0.9983 - val_loss: 0.0557 - val_accuracy: 0.9869\n"
     ]
    },
    {
     "data": {
      "text/plain": [
       "<keras.callbacks.History at 0x1c087738940>"
      ]
     },
     "execution_count": 94,
     "metadata": {},
     "output_type": "execute_result"
    }
   ],
   "source": [
    "#|export\n",
    "#Compile and Train the model\n",
    "model.compile(optimizer=keras.optimizers.Adam(),\n",
    "              loss=keras.losses.CategoricalCrossentropy(from_logits=True),\n",
    "              metrics=['accuracy'])\n",
    "\n",
    "model.fit(X_train,\n",
    "          y_train,\n",
    "          validation_split=0.3,\n",
    "          batch_size=256,\n",
    "          epochs=20,\n",
    "          verbose=1)"
   ]
  },
  {
   "cell_type": "code",
   "execution_count": 95,
   "id": "68c12cb7",
   "metadata": {},
   "outputs": [
    {
     "name": "stdout",
     "output_type": "stream",
     "text": [
      "Final Loss: 0.0438222773373127\n",
      "Accuracy on test set: 98.83000254631042%\n"
     ]
    }
   ],
   "source": [
    "#|export\n",
    "#Evaluating the model\n",
    "scores = model.evaluate(X_test, y_test, verbose=0)\n",
    "print(f\"Final Loss: {scores[0]}\")\n",
    "print(f\"Accuracy on test set: {scores[1]*100}%\")"
   ]
  },
  {
   "cell_type": "code",
   "execution_count": 96,
   "id": "e30d0c15",
   "metadata": {},
   "outputs": [],
   "source": [
    "#|export\n",
    "#Save the model\n",
    "model.save('digit_keras.h5')"
   ]
  },
  {
   "cell_type": "code",
   "execution_count": 97,
   "id": "7cb255f3",
   "metadata": {},
   "outputs": [],
   "source": [
    "import nbdev\n",
    "\n",
    "nbdev.export.nb_export('digit_keras.ipynb', 'digit_keras')"
   ]
  }
 ],
 "metadata": {
  "kernelspec": {
   "display_name": "Python 3 (ipykernel)",
   "language": "python",
   "name": "python3"
  },
  "language_info": {
   "codemirror_mode": {
    "name": "ipython",
    "version": 3
   },
   "file_extension": ".py",
   "mimetype": "text/x-python",
   "name": "python",
   "nbconvert_exporter": "python",
   "pygments_lexer": "ipython3",
   "version": "3.10.9"
  },
  "toc": {
   "base_numbering": 1,
   "nav_menu": {},
   "number_sections": true,
   "sideBar": true,
   "skip_h1_title": false,
   "title_cell": "Table of Contents",
   "title_sidebar": "Contents",
   "toc_cell": false,
   "toc_position": {},
   "toc_section_display": true,
   "toc_window_display": false
  }
 },
 "nbformat": 4,
 "nbformat_minor": 5
}
