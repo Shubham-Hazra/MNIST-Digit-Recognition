{
 "cells": [
  {
   "cell_type": "code",
   "execution_count": 97,
   "id": "7b0becf6",
   "metadata": {},
   "outputs": [],
   "source": [
    "#|default_exp digit_torch"
   ]
  },
  {
   "cell_type": "code",
   "execution_count": 98,
   "id": "e357daf9",
   "metadata": {},
   "outputs": [],
   "source": [
    "#|export\n",
    "# Import relevant libraries\n",
    "import torch\n",
    "import torch.nn as nn\n",
    "import torchvision.transforms as transforms\n",
    "import torchvision.datasets as dsets\n",
    "import numpy as np\n",
    "import pandas as pd\n",
    "import matplotlib.pyplot as plt\n",
    "from PIL import Image\n",
    "%matplotlib inline "
   ]
  },
  {
   "cell_type": "code",
   "execution_count": 99,
   "id": "f8d67b36",
   "metadata": {},
   "outputs": [],
   "source": [
    "#|export\n",
    "# Get the relevant dataset and do the required preprocessing\n",
    "\n",
    "image_size = 28\n",
    "\n",
    "composed = transforms.Compose([\n",
    "    transforms.Resize(size = (image_size,image_size)),\n",
    "    transforms.RandomAffine(degrees=45,shear=1),\n",
    "    transforms.ToTensor()\n",
    "])\n",
    "\n",
    "train_dataset = dsets.MNIST(root='./data',download=True,train = True,transform = composed)\n",
    "test_dataset = dsets.MNIST(root='./data',download=True,train = False,transform = composed)"
   ]
  },
  {
   "cell_type": "code",
   "execution_count": 100,
   "id": "f363305c",
   "metadata": {},
   "outputs": [],
   "source": [
    "#|export\n",
    "# Define the convolutional model\n",
    "\n",
    "\n",
    "class CNN(nn.Module):\n",
    "\n",
    "    def __init__(self,num_filters1,num_filters2):\n",
    "        super(CNN, self).__init__()\n",
    "        self.cnn1 = nn.Conv2d(in_channels=1,out_channels=num_filters1,kernel_size=3,stride=1,padding='same')\n",
    "        self.maxpool1 = nn.MaxPool2d(kernel_size=2,stride=2)\n",
    "        self.cnn2 = nn.Conv2d(in_channels=num_filters1,out_channels=num_filters2,kernel_size=3,stride=1,padding='same')\n",
    "        self.maxpool2 = nn.MaxPool2d(kernel_size=2,stride=2)\n",
    "        self.fc1 = nn.Linear(49*num_filters2,256)\n",
    "        self.fc2 = nn.Linear(256,64)\n",
    "        self.fc3 = nn.Linear(64,10)\n",
    "    def forward(self, x):\n",
    "        x = self.cnn1(x)\n",
    "        x = torch.relu(x)\n",
    "        x = self.maxpool1(x)\n",
    "        x = self.cnn2(x)\n",
    "        x = torch.relu(x)\n",
    "        x = self.maxpool2(x)\n",
    "        x = x.view(x.size(0),-1)\n",
    "        x = self.fc1(x)\n",
    "        x = torch.relu(x)\n",
    "        x = self.fc2(x)\n",
    "        x = torch.relu(x)\n",
    "        x = self.fc3(x)\n",
    "        return x"
   ]
  },
  {
   "cell_type": "code",
   "execution_count": 101,
   "id": "674901ed",
   "metadata": {},
   "outputs": [],
   "source": [
    "#|export\n",
    "# Define the parameters\n",
    "\n",
    "input_shape = (28, 28, 1)\n",
    "learning_rate = 1e-1\n",
    "train_accuracy_list = []\n",
    "test_accuracy_list = []\n",
    "loss_list = []\n",
    "batch_size = 256\n",
    "test_batch_size = 6000\n",
    "epochs = 10\n",
    "\n",
    "#Define the model\n",
    "\n",
    "model = CNN(16,32)\n",
    "\n",
    "#Define the loss function\n",
    "criterion = nn.CrossEntropyLoss()\n",
    "\n",
    "# Define the optimizer\n",
    "optimizer = torch.optim.SGD(model.parameters(),lr = learning_rate)"
   ]
  },
  {
   "cell_type": "code",
   "execution_count": 102,
   "id": "6306e8cd",
   "metadata": {},
   "outputs": [
    {
     "name": "stdout",
     "output_type": "stream",
     "text": [
      "Loss: 402.99554443359375, Accuracy: 0.7486\n",
      "Loss: 102.30408477783203, Accuracy: 0.9077\n",
      "Loss: 50.11988067626953, Accuracy: 0.9191\n",
      "Loss: 35.48686218261719, Accuracy: 0.946\n",
      "Loss: 28.585735321044922, Accuracy: 0.9271\n",
      "Loss: 25.075105667114258, Accuracy: 0.9659\n",
      "Loss: 22.467544555664062, Accuracy: 0.966\n",
      "Loss: 19.553483963012695, Accuracy: 0.9723\n",
      "Loss: 18.404064178466797, Accuracy: 0.9714\n",
      "Loss: 16.987245559692383, Accuracy: 0.9759\n"
     ]
    }
   ],
   "source": [
    "#|export\n",
    "#Define the dataloaders\n",
    "\n",
    "train_loader = torch.utils.data.DataLoader(train_dataset,batch_size=batch_size)\n",
    "test_loader = torch.utils.data.DataLoader(test_dataset,batch_size=test_batch_size)\n",
    "\n",
    "#Train the model\n",
    "\n",
    "loss = 0\n",
    "accuracy = 0\n",
    "\n",
    "for epoch in range(epochs):\n",
    "    correct_train = 0\n",
    "    loss = 0\n",
    "    for x,y in train_loader:\n",
    "        optimizer.zero_grad()\n",
    "        y_pred = model(x)\n",
    "        loss_val = criterion(y_pred,y)\n",
    "        loss_val.backward()\n",
    "        optimizer.step()\n",
    "        loss += loss_val\n",
    "        _, yhat = torch.max(y_pred.data, 1)\n",
    "        correct_train += (yhat == y).sum().item()\n",
    "    accuracy = correct_train / len(train_dataset)*100\n",
    "    train_accuracy_list.append(accuracy)\n",
    "    loss_list.append(loss.data)\n",
    "    correct_test = 0\n",
    "    for x,y in test_loader:\n",
    "        y_pred = model(x)\n",
    "        _, yhat = torch.max(y_pred.data, 1)\n",
    "        correct_test += (yhat == y).sum().item()\n",
    "    accuracy = correct_test / len(test_dataset)*100\n",
    "    test_accuracy_list.append(accuracy)\n",
    "    print(f\"Loss: {loss}, Accuracy: {accuracy}\")"
   ]
  },
  {
   "cell_type": "code",
   "execution_count": 105,
   "id": "37e2407a",
   "metadata": {},
   "outputs": [
    {
     "data": {
      "image/png": "[encoded data removed]",
      "text/plain": [
       "<Figure size 432x288 with 1 Axes>"
      ]
     },
     "metadata": {
      "needs_background": "light"
     },
     "output_type": "display_data"
    }
   ],
   "source": [
    "#|export\n",
    "# Plot the loss and accuracy\n",
    "plt.plot(train_accuracy_list, label='Training Accuracy')\n",
    "plt.plot(test_accuracy_list, label='Test Accuracy')\n",
    "plt.plot(loss_list, label='Loss')\n",
    "plt.xlabel('Epochs')\n",
    "plt.ylabel('Values')\n",
    "plt.legend()\n",
    "plt.show()"
   ]
  },
  {
   "cell_type": "code",
   "execution_count": 106,
   "id": "6a2be6cd",
   "metadata": {},
   "outputs": [],
   "source": [
    "import nbdev\n",
    "nbdev.export.nb_export('digit_torch.ipynb', 'digit_torch')"
   ]
  },
  {
   "cell_type": "code",
   "execution_count": null,
   "id": "09e5896b",
   "metadata": {},
   "outputs": [],
   "source": []
  }
 ],
 "metadata": {
  "kernelspec": {
   "display_name": "Python 3 (ipykernel)",
   "language": "python",
   "name": "python3"
  },
  "language_info": {
   "codemirror_mode": {
    "name": "ipython",
    "version": 3
   },
   "file_extension": ".py",
   "mimetype": "text/x-python",
   "name": "python",
   "nbconvert_exporter": "python",
   "pygments_lexer": "ipython3",
   "version": "3.10.9"
  },
  "toc": {
   "base_numbering": 1,
   "nav_menu": {},
   "number_sections": true,
   "sideBar": true,
   "skip_h1_title": false,
   "title_cell": "Table of Contents",
   "title_sidebar": "Contents",
   "toc_cell": false,
   "toc_position": {},
   "toc_section_display": true,
   "toc_window_display": false
  }
 },
 "nbformat": 4,
 "nbformat_minor": 5
}
